{
 "cells": [
  {
   "cell_type": "code",
   "execution_count": 1,
   "metadata": {
    "colab": {
     "base_uri": "https://localhost:8080/"
    },
    "id": "xWX5MpD2Jtqb",
    "outputId": "d8fb397c-09df-458e-a6c1-236ca0585e70"
   },
   "outputs": [
    {
     "name": "stdout",
     "output_type": "stream",
     "text": [
      "Collecting dash\n",
      "  Downloading dash-2.18.2-py3-none-any.whl.metadata (10 kB)\n",
      "Requirement already satisfied: Flask<3.1,>=1.0.4 in c:\\users\\naish\\anaconda3\\lib\\site-packages (from dash) (2.2.5)\n",
      "Requirement already satisfied: Werkzeug<3.1 in c:\\users\\naish\\anaconda3\\lib\\site-packages (from dash) (2.2.3)\n",
      "Requirement already satisfied: plotly>=5.0.0 in c:\\users\\naish\\anaconda3\\lib\\site-packages (from dash) (5.9.0)\n",
      "Collecting dash-html-components==2.0.0 (from dash)\n",
      "  Downloading dash_html_components-2.0.0-py3-none-any.whl.metadata (3.8 kB)\n",
      "Collecting dash-core-components==2.0.0 (from dash)\n",
      "  Downloading dash_core_components-2.0.0-py3-none-any.whl.metadata (2.9 kB)\n",
      "Collecting dash-table==5.0.0 (from dash)\n",
      "  Downloading dash_table-5.0.0-py3-none-any.whl.metadata (2.4 kB)\n",
      "Requirement already satisfied: importlib-metadata in c:\\users\\naish\\anaconda3\\lib\\site-packages (from dash) (7.0.1)\n",
      "Requirement already satisfied: typing-extensions>=4.1.1 in c:\\users\\naish\\anaconda3\\lib\\site-packages (from dash) (4.9.0)\n",
      "Requirement already satisfied: requests in c:\\users\\naish\\anaconda3\\lib\\site-packages (from dash) (2.31.0)\n",
      "Collecting retrying (from dash)\n",
      "  Downloading retrying-1.3.4-py3-none-any.whl.metadata (6.9 kB)\n",
      "Requirement already satisfied: nest-asyncio in c:\\users\\naish\\anaconda3\\lib\\site-packages (from dash) (1.6.0)\n",
      "Requirement already satisfied: setuptools in c:\\users\\naish\\anaconda3\\lib\\site-packages (from dash) (68.2.2)\n",
      "Requirement already satisfied: Jinja2>=3.0 in c:\\users\\naish\\anaconda3\\lib\\site-packages (from Flask<3.1,>=1.0.4->dash) (3.1.3)\n",
      "Requirement already satisfied: itsdangerous>=2.0 in c:\\users\\naish\\anaconda3\\lib\\site-packages (from Flask<3.1,>=1.0.4->dash) (2.0.1)\n",
      "Requirement already satisfied: click>=8.0 in c:\\users\\naish\\anaconda3\\lib\\site-packages (from Flask<3.1,>=1.0.4->dash) (8.1.7)\n",
      "Requirement already satisfied: tenacity>=6.2.0 in c:\\users\\naish\\anaconda3\\lib\\site-packages (from plotly>=5.0.0->dash) (8.2.2)\n",
      "Requirement already satisfied: MarkupSafe>=2.1.1 in c:\\users\\naish\\anaconda3\\lib\\site-packages (from Werkzeug<3.1->dash) (2.1.3)\n",
      "Requirement already satisfied: zipp>=0.5 in c:\\users\\naish\\anaconda3\\lib\\site-packages (from importlib-metadata->dash) (3.17.0)\n",
      "Requirement already satisfied: charset-normalizer<4,>=2 in c:\\users\\naish\\anaconda3\\lib\\site-packages (from requests->dash) (2.0.4)\n",
      "Requirement already satisfied: idna<4,>=2.5 in c:\\users\\naish\\anaconda3\\lib\\site-packages (from requests->dash) (3.4)\n",
      "Requirement already satisfied: urllib3<3,>=1.21.1 in c:\\users\\naish\\anaconda3\\lib\\site-packages (from requests->dash) (2.0.7)\n",
      "Requirement already satisfied: certifi>=2017.4.17 in c:\\users\\naish\\anaconda3\\lib\\site-packages (from requests->dash) (2024.2.2)\n",
      "Requirement already satisfied: six>=1.7.0 in c:\\users\\naish\\anaconda3\\lib\\site-packages (from retrying->dash) (1.16.0)\n",
      "Requirement already satisfied: colorama in c:\\users\\naish\\anaconda3\\lib\\site-packages (from click>=8.0->Flask<3.1,>=1.0.4->dash) (0.4.6)\n",
      "Downloading dash-2.18.2-py3-none-any.whl (7.8 MB)\n",
      "   ---------------------------------------- 0.0/7.8 MB ? eta -:--:--\n",
      "    --------------------------------------- 0.1/7.8 MB 4.3 MB/s eta 0:00:02\n",
      "   -- ------------------------------------- 0.5/7.8 MB 5.6 MB/s eta 0:00:02\n",
      "   --- ------------------------------------ 0.7/7.8 MB 5.5 MB/s eta 0:00:02\n",
      "   ----- ---------------------------------- 1.0/7.8 MB 5.9 MB/s eta 0:00:02\n",
      "   ------ --------------------------------- 1.2/7.8 MB 5.4 MB/s eta 0:00:02\n",
      "   ------ --------------------------------- 1.2/7.8 MB 4.6 MB/s eta 0:00:02\n",
      "   ------- -------------------------------- 1.5/7.8 MB 4.6 MB/s eta 0:00:02\n",
      "   -------- ------------------------------- 1.6/7.8 MB 4.5 MB/s eta 0:00:02\n",
      "   --------- ------------------------------ 1.8/7.8 MB 4.4 MB/s eta 0:00:02\n",
      "   ---------- ----------------------------- 2.0/7.8 MB 4.4 MB/s eta 0:00:02\n",
      "   ----------- ---------------------------- 2.2/7.8 MB 4.3 MB/s eta 0:00:02\n",
      "   ------------ --------------------------- 2.4/7.8 MB 4.3 MB/s eta 0:00:02\n",
      "   ------------- -------------------------- 2.6/7.8 MB 4.2 MB/s eta 0:00:02\n",
      "   ------------- -------------------------- 2.7/7.8 MB 4.2 MB/s eta 0:00:02\n",
      "   -------------- ------------------------- 2.9/7.8 MB 4.2 MB/s eta 0:00:02\n",
      "   --------------- ------------------------ 3.1/7.8 MB 4.2 MB/s eta 0:00:02\n",
      "   ---------------- ----------------------- 3.3/7.8 MB 4.2 MB/s eta 0:00:02\n",
      "   ----------------- ---------------------- 3.4/7.8 MB 4.1 MB/s eta 0:00:02\n",
      "   ------------------ --------------------- 3.6/7.8 MB 4.1 MB/s eta 0:00:02\n",
      "   ------------------- -------------------- 3.9/7.8 MB 4.1 MB/s eta 0:00:01\n",
      "   --------------------- ------------------ 4.1/7.8 MB 4.1 MB/s eta 0:00:01\n",
      "   --------------------- ------------------ 4.3/7.8 MB 4.1 MB/s eta 0:00:01\n",
      "   ---------------------- ----------------- 4.5/7.8 MB 4.1 MB/s eta 0:00:01\n",
      "   ----------------------- ---------------- 4.6/7.8 MB 4.1 MB/s eta 0:00:01\n",
      "   ------------------------ --------------- 4.8/7.8 MB 4.1 MB/s eta 0:00:01\n",
      "   ------------------------- -------------- 5.0/7.8 MB 4.0 MB/s eta 0:00:01\n",
      "   -------------------------- ------------- 5.2/7.8 MB 4.0 MB/s eta 0:00:01\n",
      "   --------------------------- ------------ 5.3/7.8 MB 4.1 MB/s eta 0:00:01\n",
      "   ---------------------------- ----------- 5.5/7.8 MB 4.0 MB/s eta 0:00:01\n",
      "   ---------------------------- ----------- 5.6/7.8 MB 4.0 MB/s eta 0:00:01\n",
      "   ----------------------------- ---------- 5.7/7.8 MB 3.9 MB/s eta 0:00:01\n",
      "   ------------------------------ --------- 5.9/7.8 MB 3.9 MB/s eta 0:00:01\n",
      "   ------------------------------- -------- 6.1/7.8 MB 3.9 MB/s eta 0:00:01\n",
      "   -------------------------------- ------- 6.3/7.8 MB 3.9 MB/s eta 0:00:01\n",
      "   -------------------------------- ------- 6.4/7.8 MB 3.9 MB/s eta 0:00:01\n",
      "   -------------------------------- ------- 6.4/7.8 MB 3.8 MB/s eta 0:00:01\n",
      "   -------------------------------- ------- 6.4/7.8 MB 3.8 MB/s eta 0:00:01\n",
      "   -------------------------------- ------- 6.4/7.8 MB 3.8 MB/s eta 0:00:01\n",
      "   -------------------------------- ------- 6.4/7.8 MB 3.8 MB/s eta 0:00:01\n",
      "   -------------------------------- ------- 6.4/7.8 MB 3.8 MB/s eta 0:00:01\n",
      "   -------------------------------- ------- 6.4/7.8 MB 3.8 MB/s eta 0:00:01\n",
      "   -------------------------------- ------- 6.4/7.8 MB 3.8 MB/s eta 0:00:01\n",
      "   --------------------------------- ------ 6.5/7.8 MB 3.2 MB/s eta 0:00:01\n",
      "   ---------------------------------- ----- 6.6/7.8 MB 3.2 MB/s eta 0:00:01\n",
      "   ---------------------------------- ----- 6.8/7.8 MB 3.2 MB/s eta 0:00:01\n",
      "   ----------------------------------- ---- 6.9/7.8 MB 3.2 MB/s eta 0:00:01\n",
      "   ------------------------------------ --- 7.1/7.8 MB 3.2 MB/s eta 0:00:01\n",
      "   ------------------------------------ --- 7.2/7.8 MB 3.2 MB/s eta 0:00:01\n",
      "   ------------------------------------- -- 7.4/7.8 MB 3.2 MB/s eta 0:00:01\n",
      "   -------------------------------------- - 7.6/7.8 MB 3.2 MB/s eta 0:00:01\n",
      "   ---------------------------------------  7.8/7.8 MB 3.2 MB/s eta 0:00:01\n",
      "   ---------------------------------------- 7.8/7.8 MB 3.2 MB/s eta 0:00:00\n",
      "Downloading dash_core_components-2.0.0-py3-none-any.whl (3.8 kB)\n",
      "Downloading dash_html_components-2.0.0-py3-none-any.whl (4.1 kB)\n",
      "Downloading dash_table-5.0.0-py3-none-any.whl (3.9 kB)\n",
      "Downloading retrying-1.3.4-py3-none-any.whl (11 kB)\n",
      "Installing collected packages: dash-table, dash-html-components, dash-core-components, retrying, dash\n",
      "Successfully installed dash-2.18.2 dash-core-components-2.0.0 dash-html-components-2.0.0 dash-table-5.0.0 retrying-1.3.4\n",
      "Note: you may need to restart the kernel to use updated packages.\n"
     ]
    }
   ],
   "source": [
    "!pip install dash"
   ]
  },
  {
   "cell_type": "code",
   "execution_count": 93,
   "metadata": {
    "scrolled": true
   },
   "outputs": [
    {
     "data": {
      "text/html": [
       "\n",
       "        <iframe\n",
       "            width=\"100%\"\n",
       "            height=\"650\"\n",
       "            src=\"http://127.0.0.1:8050/\"\n",
       "            frameborder=\"0\"\n",
       "            allowfullscreen\n",
       "            \n",
       "        ></iframe>\n",
       "        "
      ],
      "text/plain": [
       "<IPython.lib.display.IFrame at 0x1f3df1cfa10>"
      ]
     },
     "metadata": {},
     "output_type": "display_data"
    },
    {
     "name": "stderr",
     "output_type": "stream",
     "text": [
      "C:\\Users\\naish\\anaconda3\\Lib\\site-packages\\_plotly_utils\\basevalidators.py:106: FutureWarning:\n",
      "\n",
      "The behavior of DatetimeProperties.to_pydatetime is deprecated, in a future version this will return a Series containing python datetime objects instead of an ndarray. To retain the old behavior, call `np.array` on the result\n",
      "\n",
      "C:\\Users\\naish\\anaconda3\\Lib\\site-packages\\_plotly_utils\\basevalidators.py:106: FutureWarning:\n",
      "\n",
      "The behavior of DatetimeProperties.to_pydatetime is deprecated, in a future version this will return a Series containing python datetime objects instead of an ndarray. To retain the old behavior, call `np.array` on the result\n",
      "\n",
      "C:\\Users\\naish\\anaconda3\\Lib\\site-packages\\_plotly_utils\\basevalidators.py:106: FutureWarning:\n",
      "\n",
      "The behavior of DatetimeProperties.to_pydatetime is deprecated, in a future version this will return a Series containing python datetime objects instead of an ndarray. To retain the old behavior, call `np.array` on the result\n",
      "\n"
     ]
    }
   ],
   "source": [
    "import dash\n",
    "from dash import dcc, html\n",
    "from dash.dependencies import Input, Output\n",
    "import pandas as pd\n",
    "import plotly.express as px\n",
    "\n",
    "# Load and prepare the cleaned data\n",
    "# df = pd.read_csv('C:/Users/naish/Downloads/Capstone Project/datasets/expense_data_1.csv')  # Adjust path as needed\n",
    "# df_cleaned = df[['Date', 'Category', 'Note', 'INR', 'Income/Expense']].copy()\n",
    "# df_cleaned.columns = ['Date', 'Category', 'Description', 'Amount', 'Type']\n",
    "# df_cleaned['Date'] = pd.to_datetime(df_cleaned['Date'], errors='coerce')\n",
    "# df_cleaned.dropna(subset=['Date', 'Category', 'Amount', 'Type'], inplace=True)\n",
    "# df_cleaned['Amount'] = pd.to_numeric(df_cleaned['Amount'], errors='coerce')\n",
    "\n",
    "# Initialize the Dash app\n",
    "app = dash.Dash(__name__)\n",
    "\n",
    "# Layout of the Dash app with added filters\n",
    "app.layout = html.Div([\n",
    "    html.H1(\"Personal Financial Dashboard\"),\n",
    "\n",
    "    # Dropdown for selecting time range\n",
    "    dcc.Dropdown(\n",
    "        id='time-range',\n",
    "        options=[\n",
    "            {'label': 'Daily', 'value': 'Daily'},\n",
    "            {'label': 'Weekly', 'value': 'Weekly'},\n",
    "            {'label': 'Monthly', 'value': 'Monthly'},\n",
    "            {'label': 'Yearly', 'value': 'Yearly'},\n",
    "            {'label': 'Custom Dates', 'value': 'Custom'}\n",
    "        ],\n",
    "        value='Monthly',\n",
    "        clearable=False\n",
    "    ),\n",
    "\n",
    "    # Date picker for custom date range\n",
    "    dcc.DatePickerRange(\n",
    "        id='custom-date-picker',\n",
    "        start_date=df_cleaned['Date'].min(),\n",
    "        end_date=df_cleaned['Date'].max(),\n",
    "        style={'display': 'none'}  # Initially hidden\n",
    "    ),\n",
    "\n",
    "    # Dropdown for selecting transaction type (Income or Expense)\n",
    "    dcc.Dropdown(\n",
    "        id='transaction-type',\n",
    "        options=[\n",
    "            {'label': 'All', 'value': 'All'},\n",
    "            {'label': 'Income', 'value': 'Income'},\n",
    "            {'label': 'Expense', 'value': 'Expense'}\n",
    "        ],\n",
    "        value='All',\n",
    "        clearable=False\n",
    "    ),\n",
    "\n",
    "    # Graph to show transactions over time\n",
    "    dcc.Graph(id='transactions-time-series'),\n",
    "\n",
    "    # Pie chart for category-wise spending\n",
    "    dcc.Graph(id='category-pie-chart'),\n",
    "\n",
    "    # Bar chart for monthly spending\n",
    "    dcc.Graph(id='monthly-spending-bar-chart')\n",
    "])\n",
    "\n",
    "# Callback to show or hide date picker based on dropdown selection\n",
    "@app.callback(\n",
    "    Output('custom-date-picker', 'style'),\n",
    "    [Input('time-range', 'value')]\n",
    ")\n",
    "def show_date_picker(time_range):\n",
    "    if time_range == 'Custom':\n",
    "        return {'display': 'block'}\n",
    "    else:\n",
    "        return {'display': 'none'}\n",
    "\n",
    "# Callback to update graphs based on date range and transaction type\n",
    "@app.callback(\n",
    "    [Output('transactions-time-series', 'figure'),\n",
    "     Output('category-pie-chart', 'figure'),\n",
    "     Output('monthly-spending-bar-chart', 'figure')],\n",
    "    [Input('time-range', 'value'),\n",
    "     Input('transaction-type', 'value'),\n",
    "     Input('custom-date-picker', 'start_date'),\n",
    "     Input('custom-date-picker', 'end_date')]\n",
    ")\n",
    "def update_graphs(time_range, transaction_type, start_date, end_date):\n",
    "    # Filter data based on transaction type\n",
    "    if transaction_type == 'All':\n",
    "        filtered_df = df_cleaned.copy()\n",
    "    else:\n",
    "        filtered_df = df_cleaned[df_cleaned['Type'] == transaction_type]\n",
    "\n",
    "    # Filter data based on selected date range\n",
    "    if time_range == 'Custom':\n",
    "        filtered_df = filtered_df[(filtered_df['Date'] >= pd.to_datetime(start_date)) & (filtered_df['Date'] <= pd.to_datetime(end_date))]\n",
    "    elif time_range == 'Daily':\n",
    "        filtered_df = filtered_df.groupby(filtered_df['Date'].dt.date).agg({'Amount': 'sum'}).reset_index()\n",
    "        filtered_df.rename(columns={'Date': 'Date'}, inplace=True)\n",
    "    elif time_range == 'Weekly':\n",
    "        filtered_df = filtered_df.groupby(filtered_df['Date'].dt.to_period('W').apply(lambda r: r.start_time)).agg({'Amount': 'sum'}).reset_index()\n",
    "    elif time_range == 'Monthly':\n",
    "        filtered_df = filtered_df.groupby(filtered_df['Date'].dt.to_period('M').apply(lambda r: r.start_time)).agg({'Amount': 'sum'}).reset_index()\n",
    "    elif time_range == 'Yearly':\n",
    "        filtered_df = filtered_df.groupby(filtered_df['Date'].dt.to_period('Y').apply(lambda r: r.start_time)).agg({'Amount': 'sum'}).reset_index()\n",
    "\n",
    "    # Ensure data is available for plotting\n",
    "    if filtered_df.empty:\n",
    "        return {}, {}, {}\n",
    "\n",
    "    # Transactions over time\n",
    "    time_series_fig = px.line(filtered_df, x='Date', y='Amount', title='Transactions Over Time')\n",
    "\n",
    "    # Filter data for category pie chart based on date range and transaction type\n",
    "    if time_range == 'Custom':\n",
    "        pie_df = df_cleaned[(df_cleaned['Date'] >= pd.to_datetime(start_date)) & (df_cleaned['Date'] <= pd.to_datetime(end_date))]\n",
    "    else:\n",
    "        pie_df = df_cleaned[df_cleaned['Date'].isin(filtered_df['Date'])]\n",
    "\n",
    "    if transaction_type != 'All':\n",
    "        pie_df = pie_df[pie_df['Type'] == transaction_type]\n",
    "\n",
    "    # Category-wise spending pie chart\n",
    "    category_pie_chart = px.pie(pie_df, names='Category', values='Amount', title='Category-wise Distribution')\n",
    "\n",
    "    # Monthly spending bar chart\n",
    "    if time_range != 'Custom':\n",
    "        monthly_spending_fig = px.bar(filtered_df, x='Date', y='Amount', title='Spending Over Selected Time Range')\n",
    "    else:\n",
    "        filtered_df['Month'] = filtered_df['Date'].dt.to_period('M').astype(str)\n",
    "        monthly_spending_fig = px.bar(filtered_df, x='Month', y='Amount', title='Monthly Spending')\n",
    "\n",
    "    return time_series_fig, category_pie_chart, monthly_spending_fig\n",
    "\n",
    "# Run the Dash app\n",
    "if __name__ == '__main__':\n",
    "    app.run_server(debug=True)"
   ]
  },
  {
   "cell_type": "code",
   "execution_count": 8,
   "metadata": {},
   "outputs": [],
   "source": [
    "import sqlite3"
   ]
  },
  {
   "cell_type": "code",
   "execution_count": 76,
   "metadata": {},
   "outputs": [],
   "source": [
    "conn=sqlite3.connect(\"categorised_transaction.db\")"
   ]
  },
  {
   "cell_type": "code",
   "execution_count": 77,
   "metadata": {},
   "outputs": [],
   "source": [
    "cur=conn.cursor()"
   ]
  },
  {
   "cell_type": "code",
   "execution_count": 92,
   "metadata": {},
   "outputs": [
    {
     "name": "stdout",
     "output_type": "stream",
     "text": [
      "[(None, '2022-01-05 03:26:21.000000', 'food', 'To kumara', 150, 'Expense', 'Not Important'), (None, '2022-01-06 11:27:47.000000', 'entertainment', 'museum ticket', 250, 'Expense', 'Not Important'), (None, '2022-01-07 12:19:50.000000', 'transportation', 'car wash', 400, 'Expense', 'Not Important'), (None, '2022-01-14 04:04:05.000000', 'others', 'notepad', 80, 'Expense', 'Not Important'), (None, '2022-01-15 11:00:40.000000', 'others', 'cup coffee', 150, 'Expense', 'Not Important'), (None, '2022-01-16 09:04:29.000000', 'food', 'chocolates', 100, 'Expense', 'Not Important'), (None, '2022-01-19 15:55:36.000000', 'others', 'Salary from dad', 5000, 'Income', 'Not Important'), (None, '2022-01-25 22:40:47.000000', 'food', 'Snacks', 250, 'Expense', 'Not Important'), (None, '2022-01-29 16:42:47.000000', 'food', 'Pizza', 301.75, 'Expense', 'Not Important'), (None, '2022-01-30 05:33:51.000000', 'others', 'To vishnu', 100, 'Expense', 'Not Important'), (None, '2022-02-01 07:52:30.000000', 'food', None, 25, 'Expense', 'Not Important'), (None, '2022-02-01 10:12:40.000000', 'food', 'lunch friends', 400, 'Expense', 'Not Important'), (None, '2022-02-01 10:30:47.000000', 'health', 'health', 3460, 'Expense', 'Not Important'), (None, '2022-02-05 23:11:50.000000', 'food', 'drink', 100, 'Expense', 'Not Important'), (None, '2022-02-08 04:36:24.000000', 'food', 'snack', 90, 'Expense', 'Not Important'), (None, '2022-02-09 22:53:17.000000', 'food', 'Coconut water with stu', 50, 'Expense', 'Important'), (None, '2022-02-11 12:04:12.000000', 'food', 'groceries', 500, 'Expense', 'Not Important'), (None, '2022-02-14 12:57:30.000000', 'others', 'bananas', 50, 'Expense', 'Not Important'), (None, '2022-02-14 22:26:24.000000', 'others', 'Gundan + prasanna', 340, 'Income', 'Not Important'), (None, '2022-02-14 23:39:46.000000', 'food', 'drink', 80, 'Expense', 'Not Important'), (None, '2022-02-16 05:52:05.000000', 'food', 'Dinner', 50, 'Expense', 'Not Important'), (None, '2022-02-17 08:22:39.000000', 'others', 'From kumara', 200, 'Income', 'Not Important'), (None, '2022-02-18 02:19:03.000000', 'food', 'Horlicks + kolakattai', 25, 'Expense', 'Not Important'), (None, '2022-02-18 16:38:07.000000', 'food', 'snacks', 100, 'Expense', 'Not Important'), (None, '2022-02-18 18:31:42.000000', 'others', 'supplies', 400, 'Expense', 'Not Important'), (None, '2022-02-18 18:41:10.000000', 'food', 'dinner friends', 450, 'Expense', 'Not Important'), (None, '2022-02-19 17:18:50.000000', 'health', 'fitness band', 700, 'Expense', 'Not Important'), (None, '2022-02-19 23:35:00.000000', 'household', 'electricity bill', 200, 'Expense', 'Important'), (None, '2022-02-23 05:26:00.000000', 'social life', 'Beer', 150, 'Expense', 'Not Important'), (None, '2022-02-24 04:05:58.000000', 'food', 'water', 100, 'Expense', 'Important'), (None, '2022-02-25 05:30:46.000000', 'food', 'Dinner with barath', 200, 'Expense', 'Not Important'), (None, '2022-02-27 04:05:42.000000', 'food', 'Snacks', 20, 'Expense', 'Not Important'), (None, '2022-02-28 00:18:39.000000', 'shopping', 'clothes', 500, 'Expense', 'Not Important'), (None, '2022-02-28 13:22:16.000000', 'food', 'Lunch pongal', 1530, 'Expense', 'Not Important'), (None, '2022-03-01 22:21:03.000000', 'household', 'Rent', 4580, 'Expense', 'Important'), (None, '2022-03-04 23:47:48.000000', 'entertainment', 'pedicure', 200, 'Expense', 'Not Important'), (None, '2022-03-06 03:47:29.000000', 'health', 'health check-up', 1000, 'Expense', 'Not Important'), (None, '2022-03-06 13:32:08.000000', 'others', 'cake', 500, 'Expense', 'Not Important'), (None, '2022-03-08 18:24:39.000000', 'others', 'newspaper', 90, 'Expense', 'Not Important'), (None, '2022-03-10 04:47:56.000000', 'food', 'Dinner with roommate', 877.81, 'Expense', 'Not Important'), (None, '2022-03-10 12:16:20.000000', 'household', 'Rent', 4800, 'Expense', 'Important'), (None, '2022-03-12 02:47:00.000000', 'others', 'From abi', 300, 'Income', 'Not Important'), (None, '2022-03-16 05:31:48.000000', 'others', 'grams coffee', 10, 'Expense', 'Not Important'), (None, '2022-03-16 05:55:45.000000', 'others', 'From dad', 1000, 'Income', 'Not Important'), (None, '2022-03-21 15:40:07.000000', 'entertainment', 'phone case', 150, 'Expense', 'Important'), (None, '2022-03-21 21:17:54.000000', 'food', 'Zinger box meal', 279, 'Expense', 'Not Important'), (None, '2022-03-25 16:36:24.000000', 'social life', 'weekend getaway', 1500, 'Expense', 'Not Important'), (None, '2022-04-02 07:45:49.000000', 'others', 'From barath', 201, 'Income', 'Not Important'), (None, '2022-04-03 08:22:48.000000', 'social life', 'concert ticket', 350, 'Expense', 'Not Important'), (None, '2022-04-06 19:06:25.000000', 'household', 'electricity bill', 700, 'Expense', 'Important'), (None, '2022-04-07 09:50:26.000000', 'others', 'To abijith', 200, 'Expense', 'Not Important'), (None, '2022-04-08 13:49:47.000000', 'others', 'cake', 250, 'Expense', 'Not Important'), (None, '2022-04-10 06:50:10.000000', 'food', 'Lunch with gowdham', 535.3, 'Expense', 'Not Important'), (None, '2022-04-20 20:50:28.000000', 'health', 'fitness tracker', 400, 'Expense', 'Not Important'), (None, '2022-04-22 20:33:15.000000', 'others', 'novel', 350, 'Expense', 'Not Important'), (None, '2022-04-23 04:08:55.000000', 'food', 'Zomato', 269.4, 'Expense', 'Not Important'), (None, '2022-05-01 11:40:36.000000', 'food', '5 star', 15, 'Expense', 'Not Important'), (None, '2022-05-05 03:15:59.000000', 'others', 'bottle water', 60, 'Expense', 'Important'), (None, '2022-05-05 13:04:22.000000', 'food', 'coffee shop', 125, 'Expense', 'Not Important'), (None, '2022-05-10 06:57:29.000000', 'shopping', 'scarf', 300, 'Expense', 'Not Important'), (None, '2022-05-12 00:06:54.000000', 'others', 'face wash', 120, 'Expense', 'Not Important'), (None, '2022-05-13 03:22:17.000000', 'others', 'cab ride', 200, 'Expense', 'Not Important'), (None, '2022-05-13 20:23:07.000000', 'food', 'Milk with bharath', 25, 'Expense', 'Not Important'), (None, '2022-05-14 08:13:49.000000', 'entertainment', 'entry fees', 250, 'Expense', 'Not Important'), (None, '2022-05-15 06:22:20.000000', 'food', 'Good soup', 50, 'Expense', 'Not Important'), (None, '2022-05-16 23:06:54.000000', 'transportation', 'Vnr to apk', 50, 'Expense', 'Not Important'), (None, '2022-05-17 01:18:03.000000', 'others', 'Gave to gowdham', 50, 'Expense', 'Not Important'), (None, '2022-05-19 19:37:29.000000', 'food', 'Lunch with company', 262, 'Expense', 'Not Important'), (None, '2022-05-20 13:18:24.000000', 'others', 'Lended money', 400, 'Income', 'Not Important'), (None, '2022-05-30 14:47:06.000000', 'shopping', 'scarf', 200, 'Expense', 'Not Important'), (None, '2022-06-01 11:56:06.000000', 'food', 'Dinner', 179, 'Expense', 'Not Important'), (None, '2022-06-02 10:33:23.000000', 'food', 'Milk with bharath', 65, 'Expense', 'Not Important'), (None, '2022-06-02 21:37:52.000000', 'food', 'Lunch with company', 160, 'Expense', 'Not Important'), (None, '2022-06-05 19:39:27.000000', 'household', 'laundry', 350, 'Expense', 'Not Important'), (None, '2022-06-07 18:48:04.000000', 'others', 'novel', 350, 'Expense', 'Not Important'), (None, '2022-06-10 11:12:47.000000', 'food', 'Lemon tea with company', 15, 'Expense', 'Not Important'), (None, '2022-06-13 13:17:14.000000', 'education', 'Arrear and reval fee', 1400, 'Expense', 'Not Important'), (None, '2022-06-21 06:47:45.000000', 'health', 'doctor', 1000, 'Expense', 'Not Important'), (None, '2022-06-24 04:13:59.000000', 'gift', 'gift', 280, 'Expense', 'Not Important'), (None, '2022-06-27 17:06:50.000000', 'food', 'Lunch', 200, 'Expense', 'Not Important'), (None, '2022-06-29 17:55:54.000000', 'others', 'Tablet to gowdham', 8, 'Expense', 'Not Important'), (None, '2022-06-30 10:20:06.000000', 'shopping', 'shopping', 250, 'Expense', 'Important'), (None, '2022-07-02 05:42:08.000000', 'food', 'Snacks', 40, 'Expense', 'Not Important'), (None, '2022-07-02 14:02:30.000000', 'transportation', 'To chennai', 1000, 'Expense', 'Not Important'), (None, '2022-07-03 11:10:00.000000', 'food', 'lunch', 300, 'Expense', 'Not Important'), (None, '2022-07-05 06:52:53.000000', 'others', 'umbrella', 300, 'Expense', 'Not Important'), (None, '2022-07-07 13:44:08.000000', 'food', 'Ketch up', 20, 'Expense', 'Not Important'), (None, '2022-07-07 17:56:07.000000', 'shopping', 't-shirt', 300, 'Expense', 'Not Important'), (None, '2022-07-09 07:36:31.000000', 'entertainment', 'phone accessories', 300, 'Expense', 'Important'), (None, '2022-07-10 00:05:36.000000', 'transportation', 'fare', 100, 'Expense', 'Not Important'), (None, '2022-07-10 06:01:08.000000', 'food', 'Ice cream', 504, 'Expense', 'Not Important'), (None, '2022-07-21 03:34:35.000000', 'gift', 'gift', 120, 'Expense', 'Not Important'), (None, '2022-07-22 19:33:15.000000', 'food', 'Breakfast', 200, 'Expense', 'Not Important'), (None, '2022-07-29 20:59:51.000000', 'transportation', 'Rapido to pg', 43, 'Expense', 'Not Important'), (None, '2022-07-30 14:56:36.000000', 'food', 'Milk with bharath', 25, 'Expense', 'Not Important'), (None, '2022-08-02 13:24:40.000000', 'food', 'Panipoori', 40, 'Expense', 'Not Important'), (None, '2022-08-03 23:57:53.000000', 'transportation', 'Rapido to pg', 42, 'Expense', 'Not Important'), (None, '2022-08-05 21:28:51.000000', 'education', 'book', 25, 'Expense', 'Not Important'), (None, '2022-08-06 08:41:55.000000', 'transportation', 'Pg to office', 43, 'Expense', 'Not Important'), (None, '2022-08-12 02:52:44.000000', 'social life', 'Spiderman ', 363.72, 'Expense', 'Not Important'), (None, '2022-08-12 18:26:46.000000', 'others', 'hotel room', 2500, 'Expense', 'Not Important'), (None, '2022-08-13 17:24:46.000000', 'others', 'newspaper', 90, 'Expense', 'Not Important'), (None, '2022-08-23 19:37:28.000000', 'food', 'apples', 150, 'Expense', 'Not Important'), (None, '2022-08-27 00:50:32.000000', 'others', 'From Deepak', 250, 'Income', 'Not Important'), (None, '2022-08-27 00:52:01.000000', 'social life', 'movie snacks', 120, 'Expense', 'Not Important'), (None, '2022-08-27 09:56:29.000000', 'food', 'Lunch with company', 388, 'Expense', 'Not Important'), (None, '2022-08-28 12:26:55.000000', 'health', 'health', 260, 'Expense', 'Not Important'), (None, '2022-09-01 05:56:13.000000', 'social life', 'movie snacks', 100, 'Expense', 'Not Important'), (None, '2022-09-01 17:50:34.000000', 'food', 'Jan 2nd with shakur and barath', 354, 'Expense', 'Not Important'), (None, '2022-09-02 13:48:48.000000', 'shopping', 'shopping', 120, 'Expense', 'Important'), (None, '2022-09-04 12:11:41.000000', 'food', 'Pepsi', 40, 'Expense', 'Not Important'), (None, '2022-09-06 03:03:59.000000', 'food', 'Puffs', 25, 'Expense', 'Not Important'), (None, '2022-09-08 15:54:34.000000', 'others', 'Lended money returned to vishnu', 40, 'Expense', 'Not Important'), (None, '2022-09-09 18:37:52.000000', 'others', 'photo frame', 300, 'Expense', 'Not Important'), (None, '2022-09-11 23:51:10.000000', 'food', 'Lunch', 80, 'Expense', 'Not Important'), (None, '2022-09-12 08:01:53.000000', 'others', 'From abi', 20, 'Income', 'Not Important'), (None, '2022-09-13 02:08:36.000000', 'entertainment', 'phone recharge', 100, 'Expense', 'Important'), (None, '2022-09-14 05:28:53.000000', 'gift', 'souvenir', 200, 'Expense', 'Not Important'), (None, '2022-09-15 08:04:06.000000', 'education', 'books', 450, 'Expense', 'Not Important'), (None, '2022-09-18 05:19:45.000000', 'others', 'city tour', 500, 'Expense', 'Not Important'), (None, '2022-09-19 16:22:03.000000', 'transportation', 'fare', 200, 'Expense', 'Not Important'), (None, '2022-09-19 18:00:51.000000', 'others', 'pens notebook', 50, 'Expense', 'Not Important'), (None, '2022-09-25 09:46:40.000000', 'food', 'Lunch with company', 106, 'Expense', 'Not Important'), (None, '2022-10-01 04:47:04.000000', 'others', 'To vicky', 300, 'Expense', 'Not Important'), (None, '2022-10-02 01:27:59.000000', 'others', 'others', 290, 'Expense', 'Not Important'), (None, '2022-10-04 02:20:15.000000', 'others', 'To abijith and to vicky lend money returned', 500, 'Expense', 'Not Important'), (None, '2022-10-04 19:49:31.000000', 'transportation', 'Rapido', 130, 'Expense', 'Not Important'), (None, '2022-10-05 10:50:00.000000', 'transportation', \"Auto to Gobi's place\", 214, 'Expense', 'Not Important'), (None, '2022-10-08 06:19:34.000000', 'entertainment', 'parking fees', 75, 'Expense', 'Not Important'), (None, '2022-10-09 04:22:05.000000', 'food', 'Dinner', 155, 'Expense', 'Not Important'), (None, '2022-10-11 12:59:35.000000', 'food', 'Eve snack', 100, 'Expense', 'Not Important'), (None, '2022-10-13 09:20:32.000000', 'shopping', 'backpack', 500, 'Expense', 'Not Important'), (None, '2022-10-14 10:00:23.000000', 'education', 'Books', 400, 'Expense', 'Not Important'), (None, '2022-10-15 05:54:48.000000', 'food', 'juice', 150, 'Expense', 'Not Important'), (None, '2022-10-19 10:24:59.000000', 'others', 'bottle water', 60, 'Expense', 'Important'), (None, '2022-10-24 16:02:08.000000', 'food', 'Corn', 30, 'Expense', 'Not Important'), (None, '2022-10-25 13:14:42.000000', 'food', 'drink', 100, 'Expense', 'Not Important'), (None, '2022-10-25 15:59:14.000000', 'entertainment', 'ticket', 300, 'Expense', 'Not Important'), (None, '2022-10-26 09:51:03.000000', 'food', 'Milk with bharath', 40, 'Expense', 'Not Important'), (None, '2022-10-26 12:34:37.000000', 'others', 'From kumara', 200, 'Income', 'Not Important'), (None, '2022-10-27 20:11:01.000000', 'food', 'candies', 50, 'Expense', 'Not Important'), (None, '2022-10-28 13:13:43.000000', 'food', 'Puffs and coffee', 32, 'Expense', 'Not Important'), (None, '2022-10-28 14:15:58.000000', 'food', 'Parotta', 120, 'Expense', 'Not Important'), (None, '2022-11-06 13:34:01.000000', 'others', 'For company', 30, 'Expense', 'Not Important'), (None, '2022-11-07 01:55:59.000000', 'others', 'wallet', 250, 'Expense', 'Not Important'), (None, '2022-11-10 18:17:56.000000', 'social life', 'concert ticket', 1200, 'Expense', 'Not Important'), (None, '2022-11-13 18:16:23.000000', 'others', 'From dad', 1500, 'Income', 'Not Important'), (None, '2022-11-13 21:01:00.000000', 'others', 'Dinesh and maddy + 100 cash', 240, 'Income', 'Not Important'), (None, '2022-11-14 19:51:44.000000', 'food', 'Lunch with company', 138, 'Expense', 'Not Important'), (None, '2022-11-17 04:41:57.000000', 'others', 'items', 300, 'Expense', 'Not Important'), (None, '2022-11-20 15:00:03.000000', 'transportation', 'Train to vnr', 325, 'Expense', 'Not Important'), (None, '2022-11-21 12:09:24.000000', 'food', 'oranges', 30, 'Expense', 'Not Important'), (None, '2022-11-24 15:49:15.000000', 'others', 'bananas', 35, 'Expense', 'Not Important'), (None, '2022-11-28 23:41:38.000000', 'others', 'Recharge by gowdham', 479, 'Expense', 'Not Important'), (None, '2022-12-01 14:20:41.000000', 'transportation', 'Rapido', 35, 'Expense', 'Not Important'), (None, '2022-12-02 14:00:01.000000', 'food', 'Lunch + chocolate for preethi', 171, 'Expense', 'Not Important'), (None, '2022-12-03 14:28:43.000000', 'others', 'novel', 250, 'Expense', 'Not Important'), (None, '2022-12-03 23:09:10.000000', 'food', 'cafe', 75, 'Expense', 'Not Important'), (None, '2022-12-05 02:53:27.000000', 'food', 'Lunch with not preethi', 135.5, 'Expense', 'Not Important'), (None, '2022-12-07 07:35:41.000000', 'food', 'Dinner', 78, 'Expense', 'Not Important'), (None, '2022-12-07 19:12:56.000000', 'food', 'cooking course', 600, 'Expense', 'Not Important'), (None, '2022-12-08 07:52:18.000000', 'shopping', 'cosmetics', 300, 'Expense', 'Not Important'), (None, '2022-12-10 06:28:54.000000', 'others', 'To auto anna', 50, 'Expense', 'Not Important'), (None, '2022-12-10 12:47:19.000000', 'gift', 'souvenir', 100, 'Expense', 'Not Important'), (None, '2022-12-11 04:39:53.000000', 'food', 'Dinner', 70, 'Expense', 'Not Important'), (None, '2022-12-21 13:18:28.000000', 'food', 'Lemon tea', 18, 'Expense', 'Not Important'), (None, '2022-12-26 01:50:07.000000', 'others', 'keychain', 50, 'Expense', 'Not Important'), (None, '2023-01-01 07:08:15.000000', 'social life', 'pair sunglasses', 300, 'Expense', 'Not Important'), (None, '2023-01-02 16:16:17.000000', 'shopping', 'shirt', 400, 'Expense', 'Not Important'), (None, '2023-01-06 04:11:22.000000', 'food', 'Lunch with company', 188, 'Expense', 'Not Important'), (None, '2023-01-06 11:11:09.000000', 'shopping', 'bag', 700, 'Expense', 'Not Important'), (None, '2023-01-11 16:23:33.000000', 'shopping', 'Belt', 130, 'Expense', 'Not Important'), (None, '2023-01-14 12:40:15.000000', 'food', 'fruit basket', 150, 'Expense', 'Not Important'), (None, '2023-01-14 23:15:59.000000', 'others', 'school supplies', 350, 'Expense', 'Not Important'), (None, '2023-01-15 03:46:37.000000', 'food', 'Breakfast', 40, 'Expense', 'Not Important'), (None, '2023-01-16 19:25:07.000000', 'transportation', 'street food', 75, 'Expense', 'Important'), (None, '2023-01-16 23:28:05.000000', 'food', 'Dinner', 90, 'Expense', 'Not Important'), (None, '2023-01-20 03:16:05.000000', 'social life', 'movie ticket', 250, 'Expense', 'Not Important'), (None, '2023-01-20 16:11:19.000000', 'food', 'Water', 30, 'Expense', 'Important'), (None, '2023-01-24 15:37:39.000000', 'food', 'groceries', 600, 'Expense', 'Not Important'), (None, '2023-01-24 16:14:19.000000', 'transportation', 'Train cbe to chn', 201.8, 'Expense', 'Not Important'), (None, '2023-01-25 13:02:22.000000', 'others', 'From Deepak', 250, 'Income', 'Not Important'), (None, '2023-02-04 05:23:52.000000', 'food', 'Milk with bharath', 25, 'Expense', 'Not Important'), (None, '2023-02-05 03:21:38.000000', 'others', 'bottles water', 25, 'Expense', 'Important'), (None, '2023-02-07 14:00:49.000000', 'education', 'stationery', 180, 'Expense', 'Not Important'), (None, '2023-02-07 19:15:14.000000', 'food', 'Dinner with barath', 504, 'Expense', 'Not Important'), (None, '2023-02-08 00:29:41.000000', 'food', 'groceries', 250, 'Expense', 'Not Important'), (None, '2023-02-09 22:25:41.000000', 'social life', 'Badminton', 200, 'Expense', 'Not Important'), (None, '2023-02-10 01:34:00.000000', 'social life', 'hours project', 400, 'Expense', 'Not Important'), (None, '2023-02-11 19:56:14.000000', 'others', 'umbrella', 150, 'Expense', 'Not Important'), (None, '2023-02-15 09:15:22.000000', 'social life', None, 1700, 'Expense', 'Not Important'), (None, '2023-02-17 15:04:00.000000', 'others', 'bakery', 150, 'Expense', 'Not Important'), (None, '2023-02-19 08:55:56.000000', 'food', 'drink', 100, 'Expense', 'Not Important'), (None, '2023-02-20 12:08:40.000000', 'food', 'juice', 120, 'Expense', 'Not Important'), (None, '2023-02-21 10:28:47.000000', 'transportation', 'bus pass', 100, 'Expense', 'Not Important'), (None, '2023-02-22 05:48:38.000000', 'social life', 'hours appointment doctor', 300, 'Expense', 'Not Important'), (None, '2023-02-23 07:48:28.000000', 'household', 'Mirror', 70, 'Expense', 'Not Important'), (None, '2023-02-25 03:29:45.000000', 'food', 'Milk with bharath', 70, 'Expense', 'Not Important'), (None, '2023-02-25 23:57:30.000000', 'food', 'Snack with bharath', 40, 'Expense', 'Not Important'), (None, '2023-02-26 15:39:33.000000', 'food', \"McDonald's with company\", 211, 'Expense', 'Not Important'), (None, '2023-03-01 01:48:08.000000', 'others', 'popcorn', 60, 'Expense', 'Not Important'), (None, '2023-03-03 05:08:16.000000', 'entertainment', 'education', 3470, 'Expense', 'Important'), (None, '2023-03-08 22:04:08.000000', 'shopping', 'Cap', 140, 'Expense', 'Not Important'), (None, '2023-03-10 01:24:11.000000', 'transportation', 'Bus ticket', 1575, 'Expense', 'Not Important'), (None, '2023-03-14 15:27:42.000000', 'food', 'Pizza', 339.15, 'Expense', 'Not Important'), (None, '2023-03-16 07:53:28.000000', 'transportation', 'Travel to koyambedu', 138, 'Expense', 'Not Important'), (None, '2023-03-17 17:47:45.000000', 'others', 'pen', 50, 'Expense', 'Not Important'), (None, '2023-03-18 06:50:46.000000', 'food', None, 33, 'Expense', 'Not Important'), (None, '2023-03-18 16:22:24.000000', 'transportation', 'Rapido', 50, 'Expense', 'Not Important'), (None, '2023-03-19 11:55:17.000000', 'social life', 'movie ticket', 500, 'Expense', 'Not Important'), (None, '2023-03-21 15:38:02.000000', 'others', 'Sent to barath', 100, 'Expense', 'Not Important'), (None, '2023-03-23 22:26:50.000000', 'food', 'Milk with bharath', 25, 'Expense', 'Not Important'), (None, '2023-03-25 23:46:17.000000', 'others', 'To vicky', 200, 'Expense', 'Not Important'), (None, '2023-03-28 01:03:20.000000', 'food', 'coffee', 120, 'Expense', 'Not Important'), (None, '2023-03-30 14:34:32.000000', 'others', 'days hotel', 2000, 'Expense', 'Not Important'), (None, '2023-04-05 10:57:16.000000', 'others', 'Kumara', 170, 'Income', 'Not Important'), (None, '2023-04-09 02:44:12.000000', 'food', 'Dinner', 66, 'Expense', 'Not Important'), (None, '2023-04-11 06:36:23.000000', 'food', 'cooking class', 600, 'Expense', 'Not Important'), (None, '2023-04-11 15:02:05.000000', 'others', 'From stu', 240, 'Income', 'Not Important'), (None, '2023-04-13 02:40:17.000000', 'food', 'Snacks', 85, 'Expense', 'Not Important'), (None, '2023-04-14 00:31:08.000000', 'others', 'flowers', 400, 'Expense', 'Not Important'), (None, '2023-04-15 02:43:20.000000', 'others', 'From gowdham', 340, 'Income', 'Not Important'), (None, '2023-04-17 13:51:35.000000', 'food', 'Breakfast', 70, 'Expense', 'Not Important'), (None, '2023-04-19 01:52:40.000000', 'others', 'To kumara', 200, 'Expense', 'Not Important'), (None, '2023-04-19 03:18:22.000000', 'social life', 'entertainment', 230, 'Expense', 'Not Important'), (None, '2023-04-19 22:05:36.000000', 'transportation', 'Train to vnr', 725, 'Expense', 'Not Important'), (None, '2023-04-24 15:40:38.000000', 'shopping', 'Mask', 20, 'Expense', 'Not Important'), (None, '2023-04-25 22:21:02.000000', 'food', 'Lunch with company', 145, 'Expense', 'Not Important'), (None, '2023-04-27 12:43:05.000000', 'social life', 'weekend stay', 2000, 'Expense', 'Not Important'), (None, '2023-04-27 21:41:52.000000', 'food', 'Snack', 40, 'Expense', 'Not Important'), (None, '2023-04-28 05:56:01.000000', 'food', 'Lunch', 302, 'Expense', 'Not Important'), (None, '2023-04-29 03:05:12.000000', 'transportation', 'Rapido', 58, 'Expense', 'Not Important'), (None, '2023-05-02 10:02:26.000000', 'food', 'Water', 20, 'Expense', 'Important'), (None, '2023-05-05 14:17:37.000000', 'food', 'Kfc dinner', 641, 'Expense', 'Not Important'), (None, '2023-05-05 19:58:00.000000', 'food', 'Snack', 40, 'Expense', 'Not Important'), (None, '2023-05-13 11:43:43.000000', 'education', 'class', 500, 'Expense', 'Not Important'), (None, '2023-05-16 03:04:56.000000', 'food', 'Panipoori', 40, 'Expense', 'Not Important'), (None, '2023-05-16 22:26:37.000000', 'transportation', 'fare', 120, 'Expense', 'Not Important'), (None, '2023-05-17 00:16:37.000000', 'others', 'From dad', 1500, 'Income', 'Not Important'), (None, '2023-05-17 04:59:12.000000', 'food', 'Milk with bharath', 25, 'Expense', 'Not Important'), (None, '2023-05-17 09:30:22.000000', 'food', 'Snack', 94, 'Expense', 'Not Important'), (None, '2023-05-21 13:36:32.000000', 'social life', 'Games ', 100, 'Expense', 'Not Important'), (None, '2023-05-23 19:45:21.000000', 'health', 'dentist', 450, 'Expense', 'Not Important'), (None, '2023-05-24 00:07:38.000000', 'food', 'sandwich', 50, 'Expense', 'Not Important'), (None, '2023-05-26 06:53:45.000000', 'others', 'soda', 45, 'Expense', 'Not Important'), (None, '2023-05-30 07:59:48.000000', 'others', 'Siva + 100 cash', 70, 'Income', 'Not Important'), (None, '2023-05-31 07:32:48.000000', 'others', 'popcorn', 60, 'Expense', 'Not Important'), (None, '2023-06-01 16:25:42.000000', 'allowance', 'From dad', 2000, 'Income', 'Not Important'), (None, '2023-06-04 19:57:40.000000', 'food', 'To barath', 20, 'Expense', 'Not Important'), (None, '2023-06-05 18:14:36.000000', 'food', 'Dinner', 324, 'Expense', 'Not Important'), (None, '2023-06-10 18:33:58.000000', 'food', 'Water', 20, 'Expense', 'Important'), (None, '2023-06-12 06:25:21.000000', 'food', 'Snacks with preethi and azar', 176, 'Expense', 'Not Important'), (None, '2023-06-13 02:14:23.000000', 'food', 'snacks', 100, 'Expense', 'Not Important'), (None, '2023-06-14 18:14:30.000000', 'food', 'Lunch with company', 280, 'Expense', 'Not Important'), (None, '2023-06-15 01:49:15.000000', 'food', 'Snack', 15, 'Expense', 'Not Important'), (None, '2023-06-17 16:06:18.000000', 'food', 'Lunch', 160, 'Expense', 'Not Important'), (None, '2023-06-20 02:35:49.000000', 'shopping', 'scarf', 200, 'Expense', 'Not Important'), (None, '2023-06-20 16:26:45.000000', 'social life', 'concert', 1200, 'Expense', 'Not Important'), (None, '2023-06-22 04:01:01.000000', 'transportation', 'To ksr station', 153, 'Expense', 'Not Important'), (None, '2023-06-24 15:54:43.000000', 'food', 'groceries', 750, 'Expense', 'Not Important'), (None, '2023-06-24 17:03:44.000000', 'food', 'groceries', 600, 'Expense', 'Not Important'), (None, '2023-06-26 03:59:54.000000', 'entertainment', 'tickets', 800, 'Expense', 'Not Important'), (None, '2023-06-30 00:34:05.000000', 'food', 'Dinner with gowdham', 130, 'Expense', 'Not Important'), (None, '2023-06-30 02:23:24.000000', 'shopping', 'accessories', 400, 'Expense', 'Not Important'), (None, '2023-06-30 11:55:25.000000', 'entertainment', 'entry fees', 75, 'Expense', 'Not Important'), (None, '2023-07-01 20:20:12.000000', 'food', 'fruits', 50.5, 'Expense', 'Not Important'), (None, '2023-07-03 13:31:15.000000', 'others', 'packets chips', 20, 'Expense', 'Not Important'), (None, '2023-07-05 12:11:09.000000', 'others', 'To lended people', 300, 'Expense', 'Not Important'), (None, '2023-07-05 14:45:06.000000', 'food', 'Banana', 10, 'Expense', 'Not Important'), (None, '2023-07-06 07:02:17.000000', 'others', 'To siva', 100, 'Expense', 'Not Important'), (None, '2023-07-07 00:09:34.000000', 'food', 'Random stuff for drinks', 111, 'Expense', 'Not Important'), (None, '2023-07-09 05:16:05.000000', 'food', 'Snack', 102, 'Expense', 'Not Important'), (None, '2023-07-09 19:33:40.000000', 'food', 'fruit juice', 90, 'Expense', 'Not Important'), (None, '2023-07-10 11:50:55.000000', 'transportation', 'Bommasandra to pg', 199, 'Expense', 'Not Important'), (None, '2023-07-12 12:12:42.000000', 'food', 'Snack', 65, 'Expense', 'Not Important'), (None, '2023-07-13 15:06:59.000000', 'entertainment', 'tickets', 800, 'Expense', 'Not Important'), (None, '2023-07-13 22:09:08.000000', 'food', 'Snacks', 75, 'Expense', 'Not Important'), (None, '2023-07-15 19:30:13.000000', 'others', 'bottle water', 20, 'Expense', 'Important'), (None, '2023-07-17 14:02:29.000000', 'others', 'gym subscription', 1000, 'Expense', 'Important'), (None, '2023-07-18 11:07:19.000000', 'entertainment', 'phone case', 500, 'Expense', 'Important'), (None, '2023-07-20 08:18:45.000000', 'education', 'books', 350, 'Expense', 'Not Important'), (None, '2023-07-24 00:00:57.000000', 'others', 'To vicky', 80, 'Expense', 'Not Important'), (None, '2023-07-24 18:37:35.000000', 'transportation', 'Refund for bus ticket', 60, 'Expense', 'Not Important'), (None, '2023-07-26 03:44:55.000000', 'others', 'From dad', 1000, 'Income', 'Not Important'), (None, '2023-07-26 16:29:23.000000', 'transportation', 'taxi ride', 300, 'Expense', 'Not Important'), (None, '2023-07-30 22:42:23.000000', 'transportation', 'Bus to Bangalore', 1365, 'Expense', 'Not Important'), (None, '2023-08-02 09:21:43.000000', 'education', 'stationery', 50, 'Expense', 'Not Important'), (None, '2023-08-06 02:20:30.000000', 'transportation', 'Rapido to pg', 43, 'Expense', 'Not Important'), (None, '2023-08-11 02:17:14.000000', 'food', 'Lunch with company', 133, 'Expense', 'Not Important'), (None, '2023-08-12 12:30:06.000000', 'transportation', 'Took from sbi', 200, 'Expense', 'Not Important'), (None, '2023-08-13 12:04:28.000000', 'food', 'Momos', 195, 'Expense', 'Not Important'), (None, '2023-08-15 07:26:23.000000', 'others', 'To kumara', 100, 'Expense', 'Not Important'), (None, '2023-08-15 17:41:52.000000', 'others', 'card', 20, 'Expense', 'Not Important'), (None, '2023-08-18 08:58:02.000000', 'others', 'pack biscuits', 50, 'Expense', 'Not Important'), (None, '2023-08-19 14:18:15.000000', 'others', 'notebook', 80, 'Expense', 'Not Important'), (None, '2023-08-21 13:24:37.000000', 'food', 'food', 300, 'Expense', 'Important'), (None, '2023-08-24 06:31:53.000000', 'shopping', 'bag', 900, 'Expense', 'Not Important'), (None, '2023-08-28 06:50:51.000000', 'others', 'From shakur', 140, 'Income', 'Not Important'), (None, '2023-08-30 22:26:20.000000', 'others', 'From vicky', 80, 'Income', 'Not Important'), (None, '2023-08-31 05:18:12.000000', 'household', 'household', 240, 'Expense', 'Not Important'), (None, '2023-09-01 19:30:26.000000', 'food', 'dinner friends', 200, 'Expense', 'Not Important'), (None, '2023-09-02 14:26:11.000000', 'food', 'Lunch', 243, 'Expense', 'Not Important'), (None, '2023-09-02 15:54:05.000000', 'food', 'Tea lights', 84, 'Expense', 'Not Important'), (None, '2023-09-04 22:22:52.000000', 'food', 'Dinner with barath', 239, 'Expense', 'Not Important'), (None, '2023-09-07 19:27:05.000000', 'health', 'fitness tracker', 1200, 'Expense', 'Not Important'), (None, '2023-09-10 02:13:18.000000', 'food', 'Shawarma', 80, 'Expense', 'Not Important'), (None, '2023-09-14 01:38:44.000000', 'others', 'gym membership', 1500, 'Expense', 'Important'), (None, '2023-09-14 14:54:03.000000', 'social life', 'birthday gift', 400, 'Expense', 'Not Important'), (None, '2023-09-14 15:50:00.000000', 'social life', 'movie ticket', 400, 'Expense', 'Not Important'), (None, '2023-09-15 09:27:49.000000', 'others', 'From gpay', 5, 'Income', 'Not Important'), (None, '2023-09-16 06:37:21.000000', 'food', 'coffee shop', 120, 'Expense', 'Not Important'), (None, '2023-09-17 17:32:23.000000', 'shopping', 'Full hand and a hoodie', 1800, 'Expense', 'Not Important'), (None, '2023-09-17 19:36:44.000000', 'food', 'Dinner with aravind', 373, 'Expense', 'Not Important'), (None, '2023-09-19 09:59:19.000000', 'others', 'magazine', 60, 'Expense', 'Not Important'), (None, '2023-09-20 02:12:47.000000', 'food', 'meal', 150, 'Expense', 'Not Important'), (None, '2023-09-23 13:07:09.000000', 'health', 'doctor s appointment', 700, 'Expense', 'Not Important'), (None, '2023-09-23 16:17:29.000000', 'food', 'Snack with preethi', 59, 'Expense', 'Not Important'), (None, '2023-09-25 23:59:29.000000', 'social life', 'movie', 300, 'Expense', 'Not Important'), (None, '2023-09-26 01:59:37.000000', 'transportation', 'fare', 150, 'Expense', 'Not Important'), (None, '2023-09-29 10:09:12.000000', 'household', 'Stuffs', 336, 'Expense', 'Not Important'), (None, '2023-09-30 03:59:10.000000', 'food', 'Lunch with barath', 85, 'Expense', 'Not Important'), (None, '2023-09-30 04:07:30.000000', 'food', 'Dinner with gowdham', 120, 'Expense', 'Not Important'), (None, '2023-09-30 22:20:15.000000', 'entertainment', 'postcard', 75, 'Expense', 'Not Important'), (None, '2023-10-01 09:13:08.000000', 'entertainment', 'education', 270, 'Expense', 'Important'), (None, '2023-10-03 20:17:59.000000', 'food', 'veggies', 200, 'Expense', 'Not Important'), (None, '2023-10-04 16:17:21.000000', 'food', 'Brownie', 50, 'Expense', 'Not Important'), (None, '2023-10-05 23:12:35.000000', 'allowance', 'From dad', 8000, 'Income', 'Not Important'), (None, '2023-10-08 15:46:57.000000', 'others', 'flowers', 300, 'Expense', 'Not Important'), (None, '2023-10-10 17:59:13.000000', 'food', 'Lunch with barath', 115, 'Expense', 'Not Important'), (None, '2023-10-11 22:57:23.000000', 'others', 'From dad', 10000, 'Income', 'Not Important'), (None, '2023-10-12 02:58:38.000000', 'transportation', 'bus ticket', 200, 'Expense', 'Not Important'), (None, '2023-10-12 18:37:12.000000', 'food', 'drink', 50, 'Expense', 'Not Important'), (None, '2023-10-14 14:22:13.000000', 'others', 'From dad', 1500, 'Income', 'Not Important'), (None, '2023-10-17 08:48:45.000000', 'food', 'groceries', 200, 'Expense', 'Not Important'), (None, '2023-10-20 05:48:42.000000', 'food', 'Dinner with aravind and buddies', 491, 'Expense', 'Not Important'), (None, '2023-10-20 08:50:34.000000', 'household', None, 303, 'Expense', 'Not Important'), (None, '2023-10-20 11:06:06.000000', 'food', 'Lunch with company', 150, 'Expense', 'Not Important'), (None, '2023-10-20 12:52:39.000000', 'others', 'From kumara', 30, 'Income', 'Not Important'), (None, '2023-10-22 13:24:51.000000', 'food', 'Creamstone', 289, 'Expense', 'Not Important'), (None, '2023-10-23 07:55:07.000000', 'food', 'Tamen', 324.7, 'Expense', 'Not Important'), (None, '2023-10-25 01:59:12.000000', 'shopping', 'jacket worth', 800, 'Expense', 'Not Important'), (None, '2023-10-29 00:07:08.000000', 'transportation', 'taxi ride', 400, 'Expense', 'Not Important'), (None, '2023-10-31 13:24:34.000000', 'shopping', 'bag', 1000, 'Expense', 'Not Important'), (None, '2023-10-31 19:52:54.000000', 'others', 'gym fees', 200, 'Expense', 'Important'), (None, '2023-11-01 21:35:58.000000', 'others', 'magazine', 150, 'Expense', 'Not Important'), (None, '2023-11-03 09:17:24.000000', 'food', 'Milk with bharath', 40, 'Expense', 'Not Important'), (None, '2023-11-07 09:52:57.000000', 'food', 'Vadapaav', 75, 'Expense', 'Not Important'), (None, '2023-11-08 20:26:10.000000', 'social life', 'pair shoes', 2000, 'Expense', 'Not Important'), (None, '2023-11-09 10:12:58.000000', 'salary', 'Salary', 8000, 'Income', 'Not Important'), (None, '2023-11-10 23:16:38.000000', 'food', 'Snacks', 67, 'Expense', 'Not Important'), (None, '2023-11-10 23:21:07.000000', 'others', 'From vicky', 100, 'Income', 'Not Important'), (None, '2023-11-11 15:45:57.000000', 'entertainment', 'phone', 500, 'Expense', 'Important'), (None, '2023-11-15 12:36:37.000000', 'food', 'snack', 60, 'Expense', 'Not Important'), (None, '2023-11-16 19:16:32.000000', 'social life', 'sports equipment', 1000, 'Expense', 'Not Important'), (None, '2023-11-17 22:38:17.000000', 'transportation', 'bus fare', 200, 'Expense', 'Not Important'), (None, '2023-11-19 21:24:09.000000', 'others', 'flowers', 100, 'Expense', 'Not Important'), (None, '2023-11-21 06:06:23.000000', 'entertainment', 'parking fees', 200, 'Expense', 'Not Important'), (None, '2023-11-22 08:51:09.000000', 'education', 'book', 300, 'Expense', 'Not Important'), (None, '2023-11-30 04:59:00.000000', 'food', 'Eggs', 83, 'Expense', 'Not Important'), (None, '2023-12-02 12:52:30.000000', 'entertainment', 'game', 350, 'Expense', 'Not Important'), (None, '2023-12-03 01:55:46.000000', 'food', 'Lunch with company', 97, 'Expense', 'Not Important'), (None, '2023-12-06 20:22:26.000000', 'transportation', 'taxi ride', 220, 'Expense', 'Not Important'), (None, '2023-12-07 22:15:14.000000', 'food', 'snack', 50, 'Expense', 'Not Important'), (None, '2023-12-08 21:51:09.000000', 'food', 'Milk with bharath', 110, 'Expense', 'Not Important'), (None, '2023-12-11 22:20:42.000000', 'food', 'Snacks', 70, 'Expense', 'Not Important'), (None, '2023-12-12 10:49:02.000000', 'food', 'Brunch', 105, 'Expense', 'Not Important'), (None, '2023-12-13 16:50:22.000000', 'food', 'Egg', 30, 'Expense', 'Not Important'), (None, '2023-12-13 17:19:34.000000', 'food', 'Coffee and thattai', 14, 'Expense', 'Not Important'), (None, '2023-12-24 08:31:13.000000', 'others', 'Lended money returned to kumara', 30, 'Expense', 'Not Important'), (None, '2023-12-25 17:08:03.000000', 'food', 'Paani poori', 25, 'Expense', 'Not Important'), (None, '2023-12-27 15:25:37.000000', 'food', 'Dinner', 301.15, 'Expense', 'Not Important'), (None, '2023-12-28 12:08:56.000000', 'others', 'lunchbox', 200, 'Expense', 'Not Important'), (None, '2023-12-28 18:52:19.000000', 'others', 'packs pasta', 90, 'Expense', 'Not Important'), (None, '2023-12-29 18:53:53.000000', 'others', 'Got from gobi', 2000, 'Income', 'Not Important'), (None, '2024-01-04 02:39:17.000000', 'others', 'magazine', 75, 'Expense', 'Not Important'), (None, '2024-01-05 16:11:07.000000', 'transportation', 'To egmore', 270, 'Expense', 'Not Important'), (None, '2024-01-06 03:10:08.000000', 'food', 'groceries', 500, 'Expense', 'Not Important'), (None, '2024-01-07 16:05:30.000000', 'social life', 'pairs socks', 120, 'Expense', 'Not Important'), (None, '2024-01-07 22:36:56.000000', 'health', 'doctor appointment', 350, 'Expense', 'Not Important'), (None, '2024-01-08 08:41:41.000000', 'shopping', 'Showergel', 196, 'Expense', 'Not Important'), (None, '2024-01-09 23:09:42.000000', 'gift', 'gift', 3480, 'Expense', 'Not Important'), (None, '2024-01-11 23:18:32.000000', 'food', 'Lunch with stu', 100, 'Expense', 'Not Important'), (None, '2024-01-13 07:05:13.000000', 'food', 'Lunch', 30, 'Expense', 'Not Important'), (None, '2024-01-13 13:43:29.000000', 'household', 'Bean bag', 2099, 'Expense', 'Not Important'), (None, '2024-01-18 06:36:19.000000', 'transportation', 'transportation', 220, 'Expense', 'Important'), (None, '2024-01-19 10:45:42.000000', 'transportation', 'car wash', 300, 'Expense', 'Not Important'), (None, '2024-01-20 15:22:12.000000', 'shopping', 'cosmetics', 200, 'Expense', 'Not Important'), (None, '2024-01-25 09:49:52.000000', 'others', 'eggs', 60, 'Expense', 'Not Important'), (None, '2024-01-26 19:36:24.000000', 'food', 'candy bar', 45, 'Expense', 'Not Important'), (None, '2024-01-30 16:16:06.000000', 'transportation', 'Auto to laxmi mills', 120, 'Expense', 'Not Important'), (None, '2024-01-31 01:38:22.000000', 'education', 'fee', 75, 'Expense', 'Important'), (None, '2024-01-31 22:53:44.000000', 'food', 'coffee', 75, 'Expense', 'Not Important'), (None, '2024-02-01 21:10:57.000000', 'allowance', 'From dad', 1000, 'Income', 'Not Important'), (None, '2024-02-05 20:09:24.000000', 'food', 'gum', 40, 'Expense', 'Not Important'), (None, '2024-02-08 00:14:56.000000', 'social life', 'concert ticket', 900, 'Expense', 'Not Important'), (None, '2024-02-08 23:53:40.000000', 'food', 'Lunch with company', 40, 'Expense', 'Not Important'), (None, '2024-02-09 11:35:25.000000', 'health', 'doctor visit', 1000, 'Expense', 'Not Important'), (None, '2024-02-12 00:09:16.000000', 'others', 'bookmark', 70, 'Expense', 'Not Important'), (None, '2024-02-16 01:14:25.000000', 'food', 'Snacks', 37, 'Expense', 'Not Important'), (None, '2024-02-17 04:06:11.000000', 'food', 'Panipoori', 20, 'Expense', 'Not Important'), (None, '2024-02-20 19:53:56.000000', 'food', 'Lunch', 80, 'Expense', 'Not Important'), (None, '2024-02-21 12:37:17.000000', 'others', 'optician', 900, 'Expense', 'Not Important'), (None, '2024-02-22 12:32:23.000000', 'shopping', 'Shoe', 500, 'Expense', 'Not Important'), (None, '2024-02-23 09:16:53.000000', 'transportation', 'bus fare', 300, 'Expense', 'Not Important'), (None, '2024-02-26 18:49:35.000000', 'others', 'From dad', 500, 'Income', 'Not Important'), (None, '2024-02-26 22:55:20.000000', 'food', 'Snacks', 115, 'Expense', 'Not Important'), (None, '2024-02-28 09:34:17.000000', 'transportation', 'Metro', 60, 'Expense', 'Not Important'), (None, '2024-02-28 21:19:14.000000', 'transportation', 'Taxi', 80, 'Expense', 'Not Important'), (None, '2024-03-02 08:47:01.000000', 'allowance', 'From dad', 1000, 'Income', 'Not Important'), (None, '2024-03-02 15:02:09.000000', 'food', 'tea', 70, 'Expense', 'Not Important'), (None, '2024-03-03 00:05:50.000000', 'shopping', 'hat', 250, 'Expense', 'Not Important'), (None, '2024-03-07 16:54:27.000000', 'household', 'family meal', 400, 'Expense', 'Not Important'), (None, '2024-03-09 20:12:56.000000', 'food', 'Breakfast', 60, 'Expense', 'Not Important'), (None, '2024-03-10 22:11:07.000000', 'others', 'pen', 20, 'Expense', 'Not Important'), (None, '2024-03-11 03:16:08.000000', 'transportation', 'street food', 120, 'Expense', 'Important'), (None, '2024-03-17 03:00:06.000000', 'household', 'furniture', 1500, 'Expense', 'Not Important'), (None, '2024-03-19 09:43:00.000000', 'allowance', 'From dad', 1000, 'Income', 'Not Important'), (None, '2024-03-19 14:24:19.000000', 'others', 'To gobi', 1500, 'Expense', 'Not Important'), (None, '2024-03-23 00:08:36.000000', 'social life', 'pair shoes', 1200, 'Expense', 'Not Important'), (None, '2024-03-24 20:13:28.000000', 'food', 'meal', 150, 'Expense', 'Not Important'), (None, '2024-03-25 10:42:53.000000', 'food', 'Cakepark', 125, 'Expense', 'Not Important'), (None, '2024-03-30 23:36:38.000000', 'food', 'Panipoori', 80, 'Expense', 'Not Important'), (None, '2024-04-01 08:33:46.000000', 'others', 'bookmark', 30, 'Expense', 'Not Important'), (None, '2024-04-02 09:04:44.000000', 'food', 'Lunch with company', 148, 'Expense', 'Not Important'), (None, '2024-04-08 21:48:35.000000', 'food', 'Sent to preethi', 107, 'Expense', 'Not Important'), (None, '2024-04-09 11:59:08.000000', 'food', 'Breakfast', 30, 'Expense', 'Not Important'), (None, '2024-04-10 19:27:38.000000', 'food', 'Lunch with company', 128, 'Expense', 'Not Important'), (None, '2024-04-13 00:22:38.000000', 'others', 'social life', 310, 'Expense', 'Not Important'), (None, '2024-04-13 07:52:40.000000', 'food', 'fruits', 250, 'Expense', 'Not Important'), (None, '2024-04-16 17:35:54.000000', 'others', 'To gowdham', 150, 'Expense', 'Not Important'), (None, '2024-04-18 18:27:32.000000', 'food', 'Lunch with company', 110, 'Expense', 'Not Important'), (None, '2024-04-22 20:56:00.000000', 'food', 'Panipoori', 20, 'Expense', 'Not Important'), (None, '2024-04-25 20:11:49.000000', 'transportation', 'fare', 150, 'Expense', 'Not Important'), (None, '2024-04-28 05:43:14.000000', 'transportation', 'train ticket', 200, 'Expense', 'Not Important'), (None, '2024-05-01 22:41:36.000000', 'food', 'Dinner', 465, 'Expense', 'Not Important'), (None, '2024-05-02 09:14:18.000000', 'others', 'ice cream', 75, 'Expense', 'Not Important'), (None, '2024-05-02 21:45:31.000000', 'food', 'Beer', 150, 'Expense', 'Not Important'), (None, '2024-05-03 01:06:05.000000', 'education', 'stationery', 40, 'Expense', 'Not Important'), (None, '2024-05-05 06:43:26.000000', 'food', 'Shopping', 241, 'Expense', 'Important'), (None, '2024-05-05 08:16:07.000000', 'food', 'dinner', 150, 'Expense', 'Not Important'), (None, '2024-05-05 19:42:42.000000', 'others', 'mangoes', 100, 'Expense', 'Not Important'), (None, '2024-05-09 23:50:09.000000', 'transportation', 'Cab', 306, 'Expense', 'Not Important'), (None, '2024-05-10 19:41:45.000000', 'others', 'To gobi 1st 1/4th', 500, 'Expense', 'Not Important'), (None, '2024-05-13 17:43:01.000000', 'food', 'Breakfast with stu', 110, 'Expense', 'Not Important'), (None, '2024-05-14 17:12:18.000000', 'education', 'stationery', 50, 'Expense', 'Not Important'), (None, '2024-05-15 07:58:24.000000', 'food', 'Ramen with gobi', 380, 'Expense', 'Not Important'), (None, '2024-05-18 10:51:50.000000', 'food', 'Horlicks', 15, 'Expense', 'Not Important'), (None, '2024-05-20 06:10:13.000000', 'others', 'wallet', 500, 'Expense', 'Not Important'), (None, '2024-05-21 01:47:55.000000', 'household', 'family dinner', 500, 'Expense', 'Not Important'), (None, '2024-05-25 18:39:24.000000', 'transportation', 'car service', 700, 'Expense', 'Not Important'), (None, '2024-05-26 02:24:34.000000', 'transportation', 'train ticket', 200, 'Expense', 'Not Important'), (None, '2024-05-27 08:59:35.000000', 'food', 'Milk with bharath', 25, 'Expense', 'Not Important'), (None, '2024-05-29 03:53:04.000000', 'others', 'From gowdham', 260, 'Income', 'Not Important'), (None, '2024-05-29 05:51:19.000000', 'food', 'Bun', 18, 'Expense', 'Not Important'), (None, '2024-05-29 23:15:33.000000', 'shopping', 'jacket', 700, 'Expense', 'Not Important'), (None, '2024-06-01 05:32:09.000000', 'education', 'membership', 300, 'Expense', 'Not Important'), (None, '2024-06-01 06:47:35.000000', 'entertainment', 'manicure', 200, 'Expense', 'Not Important'), (None, '2024-06-01 09:34:18.000000', 'food', 'Kfc date with myself', 259, 'Expense', 'Not Important'), (None, '2024-06-02 05:40:18.000000', 'transportation', 'fare', 90, 'Expense', 'Not Important'), (None, '2024-06-02 22:08:35.000000', 'food', 'snacks', 100, 'Expense', 'Not Important'), (None, '2024-06-03 07:47:15.000000', 'others', 'From vicky', 310, 'Income', 'Not Important'), (None, '2024-06-04 00:49:02.000000', 'health', 'dentist', 1200, 'Expense', 'Not Important'), (None, '2024-06-07 10:13:49.000000', 'food', 'groceries', 1200, 'Expense', 'Not Important'), (None, '2024-06-07 21:15:26.000000', 'food', 'Coffee + biscuit', 15, 'Expense', 'Not Important'), (None, '2024-06-10 15:33:27.000000', 'food', 'Dinner', 95, 'Expense', 'Not Important'), (None, '2024-06-11 10:04:40.000000', 'food', 'tea', 80, 'Expense', 'Not Important'), (None, '2024-06-11 11:49:58.000000', 'transportation', 'Rapido + toll', 286, 'Expense', 'Not Important'), (None, '2024-06-13 07:40:48.000000', 'transportation', 'fare', 350, 'Expense', 'Not Important'), (None, '2024-06-16 20:41:07.000000', 'social life', 'movie rental', 100, 'Expense', 'Not Important'), (None, '2024-06-17 15:37:20.000000', 'food', 'coffee', 60, 'Expense', 'Not Important'), (None, '2024-06-17 19:05:20.000000', 'food', 'Kfc dinner', 348, 'Expense', 'Not Important'), (None, '2024-06-21 11:04:03.000000', 'others', 'From dad', 2000, 'Income', 'Not Important'), (None, '2024-06-24 13:48:25.000000', 'others', 'To karthi', 100, 'Expense', 'Not Important'), (None, '2024-06-27 03:28:41.000000', 'shopping', 'Hoodie for gobi', 399, 'Expense', 'Not Important'), (None, '2024-06-27 22:40:15.000000', 'others', 'From dad', 500, 'Income', 'Not Important'), (None, '2024-06-28 15:24:18.000000', 'food', 'Kfc ', 475, 'Expense', 'Not Important'), (None, '2024-06-30 08:56:45.000000', 'others', 'From barath and shakur', 440, 'Income', 'Not Important'), (None, '2024-06-30 12:01:56.000000', 'others', 'haircut', 300, 'Expense', 'Not Important'), (None, '2024-07-01 07:55:10.000000', 'food', 'gum', 30, 'Expense', 'Not Important'), (None, '2024-07-02 00:16:03.000000', 'food', 'lunch', 500, 'Expense', 'Not Important'), (None, '2024-07-03 16:05:59.000000', 'others', 'magazine', 80, 'Expense', 'Not Important'), (None, '2024-07-06 15:58:00.000000', 'gift', 'Bharath birthday', 115, 'Expense', 'Not Important'), (None, '2024-07-09 01:36:05.000000', 'food', 'Lunch', 875, 'Expense', 'Not Important'), (None, '2024-07-11 12:23:28.000000', 'food', 'Lunch unlimited nv', 300, 'Expense', 'Not Important'), (None, '2024-07-11 16:42:24.000000', 'food', 'Bingo', 10, 'Expense', 'Not Important'), (None, '2024-07-16 17:57:38.000000', 'education', 'stationery', 120, 'Expense', 'Not Important'), (None, '2024-07-18 04:27:52.000000', 'entertainment', 'tickets concert', 2000, 'Expense', 'Not Important'), (None, '2024-07-18 21:06:45.000000', 'others', 'ice cream', 60, 'Expense', 'Not Important'), (None, '2024-07-18 21:44:06.000000', 'transportation', 'Rapido', 58, 'Expense', 'Not Important'), (None, '2024-07-19 15:33:59.000000', 'transportation', 'Rapido to pg', 44, 'Expense', 'Not Important'), (None, '2024-07-21 10:29:47.000000', 'social life', 'birthday gift', 500, 'Expense', 'Not Important'), (None, '2024-07-22 09:22:32.000000', 'food', 'Dairy milk', 10, 'Expense', 'Not Important'), (None, '2024-07-23 02:20:39.000000', 'food', 'fruit worth', 75, 'Expense', 'Not Important'), (None, '2024-07-23 07:52:09.000000', 'others', 'From ganesan', 40, 'Income', 'Not Important'), (None, '2024-07-23 14:33:28.000000', 'entertainment', 'course', 2500, 'Expense', 'Not Important'), (None, '2024-07-24 11:15:01.000000', 'food', 'groceries', 300, 'Expense', 'Not Important'), (None, '2024-07-26 02:51:26.000000', 'food', 'Snacks', 74, 'Expense', 'Not Important'), (None, '2024-07-26 17:20:57.000000', 'food', 'juice', 50, 'Expense', 'Not Important'), (None, '2024-07-28 11:40:55.000000', 'others', 'From dad', 1000, 'Income', 'Not Important'), (None, '2024-07-28 15:28:33.000000', 'social life', 'movie rental', 100, 'Expense', 'Not Important'), (None, '2024-07-31 02:41:39.000000', 'food', 'Side dishes', 165, 'Expense', 'Not Important'), (None, '2024-08-02 05:47:10.000000', 'others', 'pens', 75, 'Expense', 'Not Important'), (None, '2024-08-07 19:32:07.000000', 'others', 'From vicky', 200, 'Income', 'Not Important'), (None, '2024-08-08 03:04:42.000000', 'education', 'class', 600, 'Expense', 'Not Important'), (None, '2024-08-09 18:22:48.000000', 'food', 'Milk with bharath', 80, 'Expense', 'Not Important'), (None, '2024-08-15 06:50:43.000000', 'transportation', 'It better be worth it', 1300, 'Expense', 'Not Important'), (None, '2024-08-16 11:06:56.000000', 'food', 'Milk', 10, 'Expense', 'Not Important'), (None, '2024-08-19 14:35:33.000000', 'transportation', 'Metro', 30, 'Expense', 'Not Important'), (None, '2024-08-19 20:48:23.000000', 'food', 'Starbucks', 100, 'Expense', 'Not Important'), (None, '2024-08-22 19:25:11.000000', 'others', 'Vishnu 100 gowdham 25', 125, 'Income', 'Not Important'), (None, '2024-08-27 10:31:17.000000', 'household', 'family dinner', 500, 'Expense', 'Not Important'), (None, '2024-08-27 23:41:08.000000', 'food', 'water bottle', 100, 'Expense', 'Important'), (None, '2024-08-29 19:27:08.000000', 'shopping', 'Earphone', 399, 'Expense', 'Important'), (None, '2024-09-02 06:02:30.000000', 'food', 'Lunch with company', 75, 'Expense', 'Not Important'), (None, '2024-09-03 05:54:08.000000', 'others', 'magazine', 50, 'Expense', 'Not Important'), (None, '2024-09-03 06:54:01.000000', 'shopping', 'dress', 650, 'Expense', 'Not Important'), (None, '2024-09-05 00:45:01.000000', 'food', 'Cycle gap ', 120, 'Expense', 'Not Important'), (None, '2024-09-06 06:46:47.000000', 'shopping', 'clothes', 1000, 'Expense', 'Not Important'), (None, '2024-09-10 18:45:01.000000', 'others', 'headphones', 1000, 'Expense', 'Important'), (None, '2024-09-11 22:11:44.000000', 'food', 'coffee', 75, 'Expense', 'Not Important'), (None, '2024-09-13 22:09:04.000000', 'shopping', 'masks', 50, 'Expense', 'Not Important'), (None, '2024-09-15 05:03:58.000000', 'allowance', 'From dad', 1000, 'Income', 'Not Important'), (None, '2024-09-18 03:59:44.000000', 'food', 'Sent to vicky', 300, 'Expense', 'Not Important'), (None, '2024-09-18 16:32:02.000000', 'food', 'To rahul', 113, 'Expense', 'Not Important'), (None, '2024-09-19 15:03:23.000000', 'food', 'Lunch with stu', 150, 'Expense', 'Not Important'), (None, '2024-09-19 22:42:42.000000', 'food', 'Lunch', 40, 'Expense', 'Not Important'), (None, '2024-09-22 09:41:17.000000', 'food', 'groceries', 700, 'Expense', 'Not Important'), (None, '2024-09-27 06:26:54.000000', 'food', 'Friday snacks with preethi gang', 106, 'Expense', 'Not Important'), (None, '2024-10-01 13:04:08.000000', 'education', 'stationery', 150, 'Expense', 'Not Important'), (None, '2024-10-03 15:50:06.000000', 'entertainment', 'phone accessories', 180, 'Expense', 'Important'), (None, '2024-10-07 09:19:13.000000', 'food', 'dinner', 200, 'Expense', 'Not Important'), (None, '2024-10-08 19:40:04.000000', 'food', 'coffee', 150, 'Expense', 'Not Important'), (None, '2024-10-09 14:06:49.000000', 'education', 'books', 600, 'Expense', 'Not Important'), (None, '2024-10-15 15:35:38.000000', 'food', 'candy', 50, 'Expense', 'Not Important'), (None, '2024-10-15 18:32:22.000000', 'others', 'hotel stay', 1000, 'Expense', 'Not Important'), (None, '2024-10-17 16:27:43.000000', 'shopping', 'shirt', 800, 'Expense', 'Not Important'), (None, '2024-10-20 01:27:35.000000', 'shopping', 'clothes', 600, 'Expense', 'Not Important'), (None, '2024-10-28 01:53:20.000000', 'others', 'others', 3490, 'Expense', 'Not Important'), (None, '2024-10-31 20:31:50.000000', 'entertainment', 'museum ticket', 350, 'Expense', 'Not Important'), (None, '2024-11-02 20:38:18.000000', 'others', 'From vicky', 300, 'Income', 'Not Important'), (None, '2024-11-02 20:44:02.000000', 'others', 'bookmark', 40, 'Expense', 'Not Important')]\n"
     ]
    }
   ],
   "source": [
    "cur.execute(\"select * from transactions;\")\n",
    "print(cur.fetchall())"
   ]
  },
  {
   "cell_type": "code",
   "execution_count": 90,
   "metadata": {},
   "outputs": [
    {
     "name": "stdout",
     "output_type": "stream",
     "text": [
      "                   Date        Category    Description  Amount     Type  \\\n",
      "0   2022-01-05 03:26:21            food      To kumara   150.0  Expense   \n",
      "1   2022-01-06 11:27:47   entertainment  museum ticket   250.0  Expense   \n",
      "2   2022-01-07 12:19:50  transportation       car wash   400.0  Expense   \n",
      "3   2022-01-14 04:04:05          others        notepad    80.0  Expense   \n",
      "4   2022-01-15 11:00:40          others     cup coffee   150.0  Expense   \n",
      "..                  ...             ...            ...     ...      ...   \n",
      "536 2024-10-20 01:27:35        shopping        clothes   600.0  Expense   \n",
      "537 2024-10-28 01:53:20          others         others  3490.0  Expense   \n",
      "538 2024-10-31 20:31:50   entertainment  museum ticket   350.0  Expense   \n",
      "539 2024-11-02 20:38:18          others     From vicky   300.0   Income   \n",
      "540 2024-11-02 20:44:02          others       bookmark    40.0  Expense   \n",
      "\n",
      "        Importance  \n",
      "0    Not Important  \n",
      "1    Not Important  \n",
      "2    Not Important  \n",
      "3    Not Important  \n",
      "4    Not Important  \n",
      "..             ...  \n",
      "536  Not Important  \n",
      "537  Not Important  \n",
      "538  Not Important  \n",
      "539  Not Important  \n",
      "540  Not Important  \n",
      "\n",
      "[537 rows x 6 columns]\n"
     ]
    }
   ],
   "source": [
    "cur.execute(\"select * from transactions;\")\n",
    "df=pd.DataFrame(cur.fetchall())\n",
    "df.columns = ['transaction_id', 'Date', 'Category', 'Description', 'Amount', 'Type', 'Importance']\n",
    "df.drop('transaction_id', axis=1, inplace=True)\n",
    "df.dropna(axis=0, inplace=True)\n",
    "df['Date'] = pd.to_datetime(df['Date'], errors='coerce')\n",
    "print(df)"
   ]
  },
  {
   "cell_type": "code",
   "execution_count": 91,
   "metadata": {},
   "outputs": [],
   "source": [
    "df_cleaned=df"
   ]
  },
  {
   "cell_type": "code",
   "execution_count": 71,
   "metadata": {},
   "outputs": [],
   "source": [
    "cur.close()\n",
    "conn.close()"
   ]
  },
  {
   "cell_type": "code",
   "execution_count": null,
   "metadata": {},
   "outputs": [],
   "source": []
  }
 ],
 "metadata": {
  "colab": {
   "provenance": []
  },
  "kernelspec": {
   "display_name": "Python 3 (ipykernel)",
   "language": "python",
   "name": "python3"
  },
  "language_info": {
   "codemirror_mode": {
    "name": "ipython",
    "version": 3
   },
   "file_extension": ".py",
   "mimetype": "text/x-python",
   "name": "python",
   "nbconvert_exporter": "python",
   "pygments_lexer": "ipython3",
   "version": "3.11.7"
  }
 },
 "nbformat": 4,
 "nbformat_minor": 4
}
